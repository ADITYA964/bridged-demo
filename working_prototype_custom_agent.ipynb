{
  "nbformat": 4,
  "nbformat_minor": 0,
  "metadata": {
    "colab": {
      "provenance": [],
      "gpuType": "T4"
    },
    "kernelspec": {
      "name": "python3",
      "display_name": "Python 3"
    },
    "language_info": {
      "name": "python"
    },
    "accelerator": "GPU"
  },
  "cells": [
    {
      "cell_type": "markdown",
      "source": [
        "#Setup Open source LLM model"
      ],
      "metadata": {
        "id": "TFxzSe_KVOe-"
      }
    },
    {
      "cell_type": "code",
      "execution_count": null,
      "metadata": {
        "colab": {
          "base_uri": "https://localhost:8080/"
        },
        "id": "dpXsjIaPUxmF",
        "outputId": "56d5a546-3765-49d7-9c02-54d038995cbb"
      },
      "outputs": [
        {
          "output_type": "stream",
          "name": "stdout",
          "text": [
            ">>> Cleaning up old version at /usr/local/lib/ollama\n",
            ">>> Installing ollama to /usr/local\n",
            ">>> Downloading Linux amd64 bundle\n",
            "######################################################################## 100.0%\n",
            ">>> Adding ollama user to video group...\n",
            ">>> Adding current user to ollama group...\n",
            ">>> Creating ollama systemd service...\n",
            "\u001b[1m\u001b[31mWARNING:\u001b[m systemd is not running\n",
            "\u001b[1m\u001b[31mWARNING:\u001b[m Unable to detect NVIDIA/AMD GPU. Install lspci or lshw to automatically detect and install GPU dependencies.\n",
            ">>> The Ollama API is now available at 127.0.0.1:11434.\n",
            ">>> Install complete. Run \"ollama\" from the command line.\n"
          ]
        }
      ],
      "source": [
        "!curl -fsSL https://ollama.com/install.sh | sh"
      ]
    },
    {
      "cell_type": "code",
      "source": [
        "!ollama serve > server.log 2>&1 &"
      ],
      "metadata": {
        "id": "R3bHWJ9cVXVC"
      },
      "execution_count": null,
      "outputs": []
    },
    {
      "cell_type": "code",
      "source": [
        "!ollama pull llama3.1"
      ],
      "metadata": {
        "colab": {
          "base_uri": "https://localhost:8080/"
        },
        "id": "MQ2ZEp1_VJaL",
        "outputId": "3283edec-ef50-4982-c3a8-a9a1f8c8be05"
      },
      "execution_count": null,
      "outputs": [
        {
          "output_type": "stream",
          "name": "stdout",
          "text": [
            "\u001b[?2026h\u001b[?25l\u001b[1G\u001b[?25h\u001b[?2026l\u001b[?2026h\u001b[?25l\u001b[1G\u001b[?25h\u001b[?2026l\u001b[?2026h\u001b[?25l\u001b[1G\u001b[?25h\u001b[?2026l\u001b[?2026h\u001b[?25l\u001b[1G\u001b[?25h\u001b[?2026l\n"
          ]
        }
      ]
    },
    {
      "cell_type": "markdown",
      "source": [
        "# Install python packages to develop custom agent"
      ],
      "metadata": {
        "id": "HTM8ikPc55vh"
      }
    },
    {
      "cell_type": "code",
      "source": [
        "!pip install -qU langchain-ollama\n",
        "!pip install -U ollama\n",
        "!pip install langchain\n",
        "!pip install langchain-pinecone\n",
        "!pip install dotenv\n",
        "!pip install lark\n",
        "!pip install langchain_huggingface\n",
        "!pip install langchain-community"
      ],
      "metadata": {
        "id": "8PMydH4SVYgb"
      },
      "execution_count": null,
      "outputs": []
    },
    {
      "cell_type": "markdown",
      "source": [
        "# Pinecone query agent"
      ],
      "metadata": {
        "id": "MHJ-oLiVV9kg"
      }
    },
    {
      "cell_type": "code",
      "source": [
        "import os\n",
        "import json\n",
        "from datetime import datetime\n",
        "from dotenv import load_dotenv\n",
        "from langchain_ollama import ChatOllama\n",
        "from typing import Optional, List, Union\n",
        "from pinecone import Pinecone,delete_index\n",
        "from langchain_pinecone import PineconeVectorStore\n",
        "from langchain_core.prompts import ChatPromptTemplate\n",
        "from langchain_huggingface import HuggingFaceEmbeddings\n",
        "from langchain_core.output_parsers import JsonOutputParser\n",
        "from langchain.chains.query_constructor.base import AttributeInfo\n",
        "from langchain.retrievers.self_query.base import SelfQueryRetriever\n",
        "from langchain_core.pydantic_v1 import BaseModel, Field, validator\n",
        "\n",
        "# Load environment variables from .env file\n",
        "load_dotenv()\n",
        "\n",
        "# Define the Pydantic model for the desired JSON output\n",
        "class PineconeFilter(BaseModel):\n",
        "    author: Optional[str] = Field(None, description=\"The author's name to filter by.\")\n",
        "    published_day: Optional[Union[int, dict]] = Field(None, description=\"The publication day, can be an integer or a dictionary with operators like $eq, $gte, $lte.\")\n",
        "    published_year: Optional[Union[int, dict]] = Field(None, description=\"The publication year, can be an integer or a dictionary with operators like $eq, $gte, $lte.\")\n",
        "    published_month: Optional[Union[int, dict]] = Field(None, description=\"The publication month (1-12), can be an integer or a dictionary with operators like $eq, $gte, $lte.\")\n",
        "    tags: Optional[dict] = Field(None, description=\"A dictionary for tags, typically {'$in': ['tag1', 'tag2']}.\")\n",
        "    query: Optional[str] = Field(None, description=\"The semantic search query part of the natural language input.\")\n",
        "\n",
        "    @validator('published_day','published_year', 'published_month', pre=True)\n",
        "    def parse_year_month(cls, v):\n",
        "        if isinstance(v, str):\n",
        "            try:\n",
        "                # Try to parse as integer if it's a simple number string\n",
        "                return int(v)\n",
        "            except ValueError:\n",
        "                pass\n",
        "        return v\n",
        "\n",
        "class PineconeQueryAgent:\n",
        "    \"\"\"\n",
        "    A Natural Language to Pinecone Query Agent that converts natural language\n",
        "    inputs into valid Pinecone metadata filters using LangChain's SelfQueryRetriever.\n",
        "    \"\"\"\n",
        "\n",
        "    def __init__(self,\n",
        "                 index_name=\"aditya-pinecone-index\",\n",
        "                 llm_model_name=\"llama3.1\",\n",
        "                 temperature=0,device=\"cuda\",\n",
        "                 normalize_embeddings=True,\n",
        "                 hf_embedding_model_name=\"intfloat/multilingual-e5-large\"):\n",
        "\n",
        "        self.pinecone_api_key = os.getenv(\"PINECONE_API_KEY\")\n",
        "\n",
        "        if not all([self.pinecone_api_key]):\n",
        "            raise ValueError(\n",
        "                \"Please set PINECONE_API_KEY \"\n",
        "                \"environment variables or in a .env file.\"\n",
        "            )\n",
        "\n",
        "        # Initialize LLM and Embeddings\n",
        "        self.llm = ChatOllama(model=llm_model_name,temperature=temperature)\n",
        "\n",
        "        self.model_kwargs = {'device': device}\n",
        "\n",
        "        self.encode_kwargs = {'normalize_embeddings': normalize_embeddings}\n",
        "\n",
        "        self.embeddings = HuggingFaceEmbeddings(model_name=hf_embedding_model_name,\n",
        "                                                model_kwargs=self.model_kwargs,\n",
        "                                                encode_kwargs=self.encode_kwargs)\n",
        "\n",
        "        # Define the metadata schema for the SelfQueryRetriever\n",
        "        self.document_content_description = \"Articles, blog posts, and research papers\"\n",
        "\n",
        "        self.metadata_field_info = [\n",
        "            AttributeInfo(\n",
        "                name=\"published_day\",\n",
        "                description=\"The day the article was published (e.g., 1)\",\n",
        "                type=\"integer\",\n",
        "            ),\n",
        "            AttributeInfo(\n",
        "                name=\"published_year\",\n",
        "                description=\"The year the article was published (e.g., 2023)\",\n",
        "                type=\"integer\",\n",
        "            ),\n",
        "            AttributeInfo(\n",
        "                name=\"published_month\",\n",
        "                description=\"The month the article was published (1-12, e.g., 6 for June)\",\n",
        "                type=\"integer\",\n",
        "            ),\n",
        "            AttributeInfo(\n",
        "                name=\"author\",\n",
        "                description=\"The name of the author of the article (e.g., Alice Zhang)\",\n",
        "                type=\"string\",\n",
        "            ),\n",
        "            AttributeInfo(\n",
        "                name=\"tags\",\n",
        "                description=\"A list of topics or categories the article is about (e.g., ['machine learning', 'LLMs'])\",\n",
        "                type=\"list[string]\",\n",
        "            ),\n",
        "        ]\n",
        "\n",
        "        # # Initialize Pinecone Vector Store\n",
        "        self.index_name = index_name # Use a consistent index name\n",
        "\n",
        "        self.vectorstore = None\n",
        "\n",
        "        self.pc = Pinecone(api_key=self.pinecone_api_key)\n",
        "\n",
        "        if not self.pc.has_index(self.index_name):\n",
        "\n",
        "          self.pc.create_index_for_model(\n",
        "                  name=self.index_name,\n",
        "                  cloud=\"aws\",\n",
        "                  region=\"us-east-1\",\n",
        "                  embed={\n",
        "                      \"model\":\"multilingual-e5-large\",\n",
        "                      \"field_map\":{\"text\": \"title\"}\n",
        "                  }\n",
        "              )\n",
        "          print(f\"Pinecone index '{self.index_name}' is generated.\")\n",
        "        else:\n",
        "          print(f\"Pinecone index '{self.index_name}' already exists.\")\n",
        "\n",
        "\n",
        "        # Initialize the SelfQueryRetriever\n",
        "        self.retriever = None\n",
        "\n",
        "    def _initialize_pinecone_vectorstore(self,index_name,documents):\n",
        "\n",
        "      self.vectorstore = PineconeVectorStore.from_texts([doc[0] for doc in documents],\n",
        "                                                        self.embeddings,\n",
        "                                                        index_name=index_name,\n",
        "                                                        metadatas=[doc[1] for doc in documents])\n",
        "\n",
        "    def _delete_pinecone_index(self,index_name):\n",
        "\n",
        "      self.pc.delete_index(index_name)\n",
        "\n",
        "      print(f\"Pinecone index '{index_name}' is successfully deleted.\")\n",
        "\n",
        "    def _create_self_retriever(self,filter):\n",
        "\n",
        "      self.retriever = SelfQueryRetriever.from_llm(self.llm,\n",
        "                                                   self.vectorstore,\n",
        "                                                   self.document_content_description,\n",
        "                                                   self.metadata_field_info,\n",
        "                                                   verbose=False,\n",
        "                                                   search_kwargs={\n",
        "                                                    'filter': filter})\n",
        "\n",
        "    def _inference(self,nl_query,parser):\n",
        "      self.prompt = ChatPromptTemplate.from_messages([(\"system\", \"You are a helpful assistant that extracts Pinecone metadata filters and a semantic query from natural language input. \"\n",
        "                           \"The available metadata fields are: 'author' (string), 'published_year' (integer), 'published_month' (integer), and 'tags' (list of strings). \"\n",
        "                           \"For dates, use 'published_year' ,'published_day'and 'published_month' as integers. \"\n",
        "                           \"For tags, use the format: {{'tags': {{'$in': ['tag1', 'tag2']}}}}. \"\n",
        "                           \"If no specific filter is mentioned, return an empty dictionary for that field. \"\n",
        "                           \"Extract the main semantic search part of the query into the 'query' field. \"\n",
        "                           \"Output only a JSON object following this schema:\\n{format_instructions}\"),\n",
        "                            (\"user\", \"{query}\")]).partial(format_instructions=parser.get_format_instructions())\n",
        "\n",
        "      self.chain = self.prompt | self.llm | parser\n",
        "\n",
        "      # Invoke the chain to get the structured output\n",
        "      self.structured_output = self.chain.invoke({\"query\": nl_query})\n",
        "\n",
        "       # Construct the final Pinecone filter based on the structured output\n",
        "      self.final_filter = {}\n",
        "      if self.structured_output.get(\"author\"):\n",
        "          self.final_filter[\"author\"] = self.structured_output[\"author\"]\n",
        "      if self.structured_output.get(\"published_year\") is not None:\n",
        "          # Handle cases where LLM might return an int or a dict for year/month\n",
        "          if isinstance(self.structured_output[\"published_year\"], int):\n",
        "              self.final_filter[\"published_year\"] = {\"$eq\": self.structured_output[\"published_year\"]}\n",
        "          elif isinstance(self.structured_output[\"published_year\"], dict):\n",
        "              self.final_filter[\"published_year\"] = self.structured_output[\"published_year\"]\n",
        "      if self.structured_output.get(\"published_month\") is not None:\n",
        "          if isinstance(self.structured_output[\"published_month\"], int):\n",
        "              self.final_filter[\"published_month\"] = {\"$eq\": self.structured_output[\"published_month\"]}\n",
        "          elif isinstance(self.structured_output[\"published_month\"], dict):\n",
        "              self.final_filter[\"published_month\"] = self.structured_output[\"published_month\"]\n",
        "      if self.structured_output.get(\"published_day\") is not None:\n",
        "          if isinstance(self.structured_output[\"published_day\"], int):\n",
        "              self.final_filter[\"published_day\"] = {\"$eq\": self.structured_output[\"published_day\"]}\n",
        "          elif isinstance(self.structured_output[\"published_day\"], dict):\n",
        "              self.final_filter[\"published_day\"] = self.structured_output[\"published_day\"]\n",
        "      if self.structured_output.get(\"tags\"):\n",
        "          self.final_filter[\"tags\"] = self.structured_output[\"tags\"]\n",
        "\n",
        "      return self.final_filter"
      ],
      "metadata": {
        "id": "3y_IBIdWV2E3"
      },
      "execution_count": null,
      "outputs": []
    },
    {
      "cell_type": "markdown",
      "source": [
        "# Preprocessing dataset"
      ],
      "metadata": {
        "id": "ivb2R5wP-XRk"
      }
    },
    {
      "cell_type": "code",
      "source": [
        "import pandas as pd\n",
        "\n",
        "url = \"https://docs.google.com/spreadsheets/d/1yky4n9AtCms7cniQ3CahdaaBOpt0gEWcl2VcJHMvMQ8/export?format=csv&gid=2005119392\"\n",
        "\n",
        "df = pd.read_csv(url)\n",
        "\n",
        "df['publishedDate'] = pd.to_datetime(df['publishedDate'])\n",
        "df['published_year'] = df['publishedDate'].dt.year\n",
        "df['published_month'] = df['publishedDate'].dt.month\n",
        "df['published_day'] = df['publishedDate'].dt.day"
      ],
      "metadata": {
        "id": "xz1AGthW0v5s"
      },
      "execution_count": null,
      "outputs": []
    },
    {
      "cell_type": "code",
      "source": [
        "import ast\n",
        "\n",
        "# Safely convert tags string to list\n",
        "df['tags'] = df['tags'].apply(ast.literal_eval)\n",
        "\n",
        "# Convert to list of documents\n",
        "documents = [\n",
        "    (\n",
        "        row['title'],\n",
        "        {\n",
        "            'author': row['author'],\n",
        "            'published_year': int(row['published_year']),\n",
        "            'published_month': int(row['published_month']),\n",
        "            'published_day': int(row['published_day']),\n",
        "            'tags': row['tags']\n",
        "        }\n",
        "    )\n",
        "    for _, row in df.iterrows()\n",
        "]\n",
        "\n",
        "# Optional: Print or use the documents\n",
        "for doc in documents:\n",
        "    print(doc)"
      ],
      "metadata": {
        "colab": {
          "base_uri": "https://localhost:8080/"
        },
        "id": "GDDAeEXi1epl",
        "outputId": "b1eeeffc-cc52-44df-b779-31ab5a0ba349"
      },
      "execution_count": null,
      "outputs": [
        {
          "output_type": "stream",
          "name": "stdout",
          "text": [
            "('IPL 2025: Ruthless MI top table, knock Rajasthan Royals out of playoffs race', {'author': 'Jane Doe', 'published_year': 2025, 'published_month': 5, 'published_day': 1, 'tags': ['#IPL2025', '#MumbaiIndians', '#RajasthanRoyals']})\n",
            "(\"Shubman Gill likely to play vs SRH despite back spasm scare, confirms GT's Vikram Solanki\", {'author': 'Jane Doe', 'published_year': 2025, 'published_month': 5, 'published_day': 1, 'tags': ['#ShubmanGill', '#GujaratTitans', '#IPLInjuries']})\n",
            "('IPL 2025: Vaibhav Suryavanshi out for 2-ball duck days after 35-ball hundred', {'author': 'Jane Doe', 'published_year': 2025, 'published_month': 5, 'published_day': 1, 'tags': ['#VaibhavSuryavanshi', '#IPL2025', '#CricketForm']})\n",
            "('IPL: Rohit Sharma completes 6,000 runs for MI, joins Virat Kohli in unique list', {'author': 'Jane Doe', 'published_year': 2025, 'published_month': 5, 'published_day': 1, 'tags': ['#RohitSharma', '#MumbaiIndians', '#IPLRecords']})\n",
            "(\"IPL 2025: Don't praise Vaibhav Suryavanshi to the skies, says Sunil Gavaskar\", {'author': 'Jane Doe', 'published_year': 2025, 'published_month': 5, 'published_day': 1, 'tags': ['#VaibhavSuryavanshi', '#SunilGavaskar', '#IPL2025']})\n",
            "('IPL 2025: Former England football manager Gareth Southgate watches RR vs MI', {'author': 'Mary Poppins', 'published_year': 2025, 'published_month': 5, 'published_day': 1, 'tags': ['#GarethSouthgate', '#RajasthanRoyals', '#IPL2025']})\n",
            "('RR vs MI: Rohit Sharma heaves sigh of relief as last-second DRS call helps him survive', {'author': 'Mary Poppins', 'published_year': 2025, 'published_month': 5, 'published_day': 1, 'tags': ['#RohitSharma', '#DRS', '#RRvsMI']})\n",
            "('RR vs MI: Sandeep Sharma misses game due to broken finger as Rajasthan make 2 changes', {'author': 'Mary Poppins', 'published_year': 2025, 'published_month': 5, 'published_day': 1, 'tags': ['#SandeepSharma', '#RajasthanRoyals', '#IPLInjuries']})\n",
            "('Shikhar Dhawan confirms relationship with girlfriend Sophie Shine in Insta post', {'author': 'Mary Poppins', 'published_year': 2025, 'published_month': 5, 'published_day': 1, 'tags': ['#ShikharDhawan', '#SophieShine', '#CelebrityNews']})\n",
            "(\"Lamine Yamal deserves to win Ballon d'Or if Barcelona win Champions League: Rio Ferdinand\", {'author': 'Harry Potter', 'published_year': 2025, 'published_month': 5, 'published_day': 1, 'tags': ['#LamineYamal', '#BallonDor', '#Barcelona']})\n",
            "(\"Virender Sehwag reveals why Delhi didn't pick Virat Kohli in IPL 2008\", {'author': 'Harry Potter', 'published_year': 2025, 'published_month': 5, 'published_day': 1, 'tags': ['#VirenderSehwag', '#ViratKohli', '#IPLHistory']})\n",
            "('Najmul Shanto not happy despite Chattogram win: Bangladesh should have won the series', {'author': 'Harry Potter', 'published_year': 2025, 'published_month': 5, 'published_day': 1, 'tags': ['#NajmulShanto', '#BangladeshCricket', '#Chattogram']})\n",
            "('Suryakumar Yadav recalls Mumbai Indians debut: Barely slept the night before', {'author': 'Harry Potter', 'published_year': 2025, 'published_month': 5, 'published_day': 1, 'tags': ['#SuryakumarYadav', '#MumbaiIndians', '#IPL2025']})\n",
            "('Pickleball lands in administrative war as AIPA opposes government recognition of IPA', {'author': 'Harry Potter', 'published_year': 2025, 'published_month': 5, 'published_day': 1, 'tags': ['#Pickleball', '#SportsPolitics', '#IndiaSports']})\n",
            "('Suyash Sharma thanks RCB for life-changing hernia surgery: I used to take injection', {'author': 'Akainu', 'published_year': 2025, 'published_month': 5, 'published_day': 1, 'tags': ['#SuyashSharma', '#RCB', '#CricketHealth']})\n"
          ]
        }
      ]
    },
    {
      "cell_type": "markdown",
      "source": [
        "# Initialize custom agent"
      ],
      "metadata": {
        "id": "KY0N3Waq-bMb"
      }
    },
    {
      "cell_type": "code",
      "source": [
        "agent = PineconeQueryAgent()"
      ],
      "metadata": {
        "colab": {
          "base_uri": "https://localhost:8080/"
        },
        "id": "3SZcka6o2GZQ",
        "outputId": "71907047-1db1-47c7-bd0b-65f8f3d2178a"
      },
      "execution_count": null,
      "outputs": [
        {
          "output_type": "stream",
          "name": "stderr",
          "text": [
            "/usr/local/lib/python3.11/dist-packages/huggingface_hub/utils/_auth.py:94: UserWarning: \n",
            "The secret `HF_TOKEN` does not exist in your Colab secrets.\n",
            "To authenticate with the Hugging Face Hub, create a token in your settings tab (https://huggingface.co/settings/tokens), set it as secret in your Google Colab and restart your session.\n",
            "You will be able to reuse this secret in all of your notebooks.\n",
            "Please note that authentication is recommended but still optional to access public models or datasets.\n",
            "  warnings.warn(\n"
          ]
        },
        {
          "output_type": "stream",
          "name": "stdout",
          "text": [
            "Pinecone index 'aditya-pinecone-index' is generated.\n"
          ]
        }
      ]
    },
    {
      "cell_type": "code",
      "source": [
        "agent._initialize_pinecone_vectorstore('aditya-pinecone-index',documents)"
      ],
      "metadata": {
        "id": "Xq9NaHPs2awI"
      },
      "execution_count": null,
      "outputs": []
    },
    {
      "cell_type": "code",
      "source": [
        " llm_output_parser = JsonOutputParser(pydantic_object=PineconeFilter)"
      ],
      "metadata": {
        "id": "dMe7gDJt-sgu"
      },
      "execution_count": null,
      "outputs": []
    },
    {
      "cell_type": "markdown",
      "source": [
        "# Natural language query as input to custom agent"
      ],
      "metadata": {
        "id": "1eMYvXX79BOr"
      }
    },
    {
      "cell_type": "code",
      "source": [
        "natural_lang_query = \"Anything by Jane Doe on #MumbaiIndians on 1 May 2025?\"\n",
        "\n",
        "pinecone_query = agent._inference(natural_lang_query,llm_output_parser)"
      ],
      "metadata": {
        "id": "xSqh2mla7zGp"
      },
      "execution_count": null,
      "outputs": []
    },
    {
      "cell_type": "markdown",
      "source": [
        "# Custom Agent output"
      ],
      "metadata": {
        "id": "umWapIDf87oF"
      }
    },
    {
      "cell_type": "code",
      "source": [
        "pinecone_query"
      ],
      "metadata": {
        "colab": {
          "base_uri": "https://localhost:8080/"
        },
        "id": "sbd5cpwt72pj",
        "outputId": "988514d7-7c92-4cf1-c4f9-69635e2580e6"
      },
      "execution_count": null,
      "outputs": [
        {
          "output_type": "execute_result",
          "data": {
            "text/plain": [
              "{'author': 'Jane Doe',\n",
              " 'published_year': {'$eq': 2025},\n",
              " 'published_month': {'$eq': 5},\n",
              " 'published_day': {'$eq': 1},\n",
              " 'tags': {'$in': ['#MumbaiIndians']}}"
            ]
          },
          "metadata": {},
          "execution_count": 18
        }
      ]
    },
    {
      "cell_type": "markdown",
      "source": [
        "# Using vector search and metadata filtering"
      ],
      "metadata": {
        "id": "NwSfYk9m9LA-"
      }
    },
    {
      "cell_type": "code",
      "source": [
        "agent._create_self_retriever(pinecone_query)"
      ],
      "metadata": {
        "id": "uyVUEcYg2kkg"
      },
      "execution_count": null,
      "outputs": []
    },
    {
      "cell_type": "code",
      "source": [
        "natural_lang_query"
      ],
      "metadata": {
        "colab": {
          "base_uri": "https://localhost:8080/",
          "height": 35
        },
        "id": "xbKX-9vu4MUs",
        "outputId": "ba84e6f4-3557-4c5c-c4fa-a4238cd44eb6"
      },
      "execution_count": null,
      "outputs": [
        {
          "output_type": "execute_result",
          "data": {
            "text/plain": [
              "'Anything by Jane Doe on #MumbaiIndians on 1 May 2025?'"
            ],
            "application/vnd.google.colaboratory.intrinsic+json": {
              "type": "string"
            }
          },
          "metadata": {},
          "execution_count": 20
        }
      ]
    },
    {
      "cell_type": "code",
      "source": [
        "\n",
        "agent.retriever.invoke(natural_lang_query)"
      ],
      "metadata": {
        "colab": {
          "base_uri": "https://localhost:8080/"
        },
        "id": "AuDRe-xA6kyH",
        "outputId": "17d8d25a-a40b-4630-f7f6-a62601e70297"
      },
      "execution_count": null,
      "outputs": [
        {
          "output_type": "execute_result",
          "data": {
            "text/plain": [
              "[Document(id='b72abb44-7ffc-4814-ae8b-dd25628416dc', metadata={'author': 'Jane Doe', 'published_day': 1.0, 'published_month': 5.0, 'published_year': 2025.0, 'tags': ['#IPL2025', '#MumbaiIndians', '#RajasthanRoyals']}, page_content='IPL 2025: Ruthless MI top table, knock Rajasthan Royals out of playoffs race'),\n",
              " Document(id='fbdbb83a-8136-4c35-9d78-079ea5499ea0', metadata={'author': 'Jane Doe', 'published_day': 1.0, 'published_month': 5.0, 'published_year': 2025.0, 'tags': ['#VaibhavSuryavanshi', '#IPL2025', '#CricketForm']}, page_content='IPL 2025: Vaibhav Suryavanshi out for 2-ball duck days after 35-ball hundred'),\n",
              " Document(id='f578dd89-cc5f-44d7-be81-4b0967e5784f', metadata={'author': 'Jane Doe', 'published_day': 1.0, 'published_month': 5.0, 'published_year': 2025.0, 'tags': ['#RohitSharma', '#MumbaiIndians', '#IPLRecords']}, page_content='IPL: Rohit Sharma completes 6,000 runs for MI, joins Virat Kohli in unique list'),\n",
              " Document(id='c6aaabf8-31ed-451d-af80-ecc94d22aae6', metadata={'author': 'Jane Doe', 'published_day': 1.0, 'published_month': 5.0, 'published_year': 2025.0, 'tags': ['#VaibhavSuryavanshi', '#SunilGavaskar', '#IPL2025']}, page_content=\"IPL 2025: Don't praise Vaibhav Suryavanshi to the skies, says Sunil Gavaskar\")]"
            ]
          },
          "metadata": {},
          "execution_count": 21
        }
      ]
    },
    {
      "cell_type": "markdown",
      "source": [
        "# Delete Pinecone index after using."
      ],
      "metadata": {
        "id": "a7McSImX-hmy"
      }
    },
    {
      "cell_type": "code",
      "source": [
        "agent._delete_pinecone_index('aditya-pinecone-index')"
      ],
      "metadata": {
        "colab": {
          "base_uri": "https://localhost:8080/"
        },
        "id": "aRdd-LA04s99",
        "outputId": "e6db0f69-3643-4e50-8d51-32491c1ec21e"
      },
      "execution_count": null,
      "outputs": [
        {
          "output_type": "stream",
          "name": "stdout",
          "text": [
            "Pinecone index 'aditya-pinecone-index' is successfully deleted.\n"
          ]
        }
      ]
    }
  ]
}